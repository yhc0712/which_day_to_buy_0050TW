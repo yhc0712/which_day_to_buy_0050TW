{
  "nbformat": 4,
  "nbformat_minor": 0,
  "metadata": {
    "colab": {
      "name": "哪天定期定額申購0050.ipynb",
      "provenance": [],
      "authorship_tag": "ABX9TyMzmZO1S9w5/S/ZlMyVN1/8",
      "include_colab_link": true
    },
    "kernelspec": {
      "name": "python3",
      "display_name": "Python 3"
    },
    "language_info": {
      "name": "python"
    }
  },
  "cells": [
    {
      "cell_type": "markdown",
      "metadata": {
        "id": "view-in-github",
        "colab_type": "text"
      },
      "source": [
        "<a href=\"https://colab.research.google.com/github/yhc0712/which_day_to_buy_0050TW/blob/main/%E5%93%AA%E5%A4%A9%E5%AE%9A%E6%9C%9F%E5%AE%9A%E9%A1%8D%E7%94%B3%E8%B3%BC0050.ipynb\" target=\"_parent\"><img src=\"https://colab.research.google.com/assets/colab-badge.svg\" alt=\"Open In Colab\"/></a>"
      ]
    },
    {
      "cell_type": "markdown",
      "source": [
        "# 定期定額要設定星期幾申購0050？\n",
        "\n",
        "1. Weblink of data source\n",
        "[Yahoo Finance](https://finance.yahoo.com/quote/0050.TW/)\n",
        "\n"
      ],
      "metadata": {
        "id": "P38Dmxdgi8ah"
      }
    },
    {
      "cell_type": "code",
      "source": [
        "!pip install yfinance\n",
        "import yfinance as yf\n",
        "import h5py\n",
        "import pandas as pd\n",
        "import numpy as np\n",
        "from datetime import datetime"
      ],
      "metadata": {
        "id": "ItRgVEO2jqZS"
      },
      "execution_count": null,
      "outputs": []
    },
    {
      "cell_type": "code",
      "source": [
        "tt50_info = yf.Ticker(\"0050.TW\")\n",
        "tt50_price = tt50_info.info['regularMarketPrice']\n",
        "\n",
        "'''\n",
        "從yahoo finance下載0050歷史資料\n",
        "並新增工作日欄位\n",
        "'''\n",
        "\n",
        "tt50 = yf.download('0050.TW', start = '2002-06-25', end = datetime.today())\n",
        "\n",
        "tt50['Weekday'] = [i.isoweekday() for i in tt50.index]\n",
        "\n",
        "wd_convert = {\n",
        "    1: '星期一',\n",
        "    2: '星期二',\n",
        "    3: '星期三',\n",
        "    4: '星期四',\n",
        "    5: '星期五'\n",
        "}"
      ],
      "metadata": {
        "colab": {
          "base_uri": "https://localhost:8080/"
        },
        "id": "jiaJI1deZGRZ",
        "outputId": "59f44535-353f-45e3-943d-87ccdee83bf2"
      },
      "execution_count": null,
      "outputs": [
        {
          "output_type": "stream",
          "name": "stdout",
          "text": [
            "\r[*********************100%***********************]  1 of 1 completed\n"
          ]
        }
      ]
    },
    {
      "cell_type": "markdown",
      "source": [
        "isoweekday是以星期一為1，星期五為5，以此類推\n",
        "\n",
        "先檢視歷史資料中交易之工作日，可以看到有包含星期六"
      ],
      "metadata": {
        "id": "IltaO01kxVVE"
      }
    },
    {
      "cell_type": "code",
      "source": [
        "tt50['Weekday'].unique()"
      ],
      "metadata": {
        "colab": {
          "base_uri": "https://localhost:8080/"
        },
        "id": "bZ3XXPUPxCvK",
        "outputId": "8bc4585b-ac4b-4347-f2ad-4468ffb36fbf"
      },
      "execution_count": null,
      "outputs": [
        {
          "output_type": "execute_result",
          "data": {
            "text/plain": [
              "array([3, 4, 5, 1, 2, 6])"
            ]
          },
          "metadata": {},
          "execution_count": 4
        }
      ]
    },
    {
      "cell_type": "markdown",
      "source": [
        "檢視星期六為交易日的日數，通常應該是補班日才會在星期六交易\n",
        "\n",
        "故在本筆記本的分析內，將排除星期六申購的可能"
      ],
      "metadata": {
        "id": "uKYiGS-hxpDb"
      }
    },
    {
      "cell_type": "code",
      "source": [
        "tt50[tt50['Weekday'] == 6]"
      ],
      "metadata": {
        "colab": {
          "base_uri": "https://localhost:8080/",
          "height": 405
        },
        "id": "WmGufQpwxksn",
        "outputId": "2b30f983-50a2-4dfe-f1f4-1a326a46480a"
      },
      "execution_count": null,
      "outputs": [
        {
          "output_type": "execute_result",
          "data": {
            "text/html": [
              "\n",
              "  <div id=\"df-a524bd2f-121b-4b81-89c3-f3ee19b6fad4\">\n",
              "    <div class=\"colab-df-container\">\n",
              "      <div>\n",
              "<style scoped>\n",
              "    .dataframe tbody tr th:only-of-type {\n",
              "        vertical-align: middle;\n",
              "    }\n",
              "\n",
              "    .dataframe tbody tr th {\n",
              "        vertical-align: top;\n",
              "    }\n",
              "\n",
              "    .dataframe thead th {\n",
              "        text-align: right;\n",
              "    }\n",
              "</style>\n",
              "<table border=\"1\" class=\"dataframe\">\n",
              "  <thead>\n",
              "    <tr style=\"text-align: right;\">\n",
              "      <th></th>\n",
              "      <th>Open</th>\n",
              "      <th>High</th>\n",
              "      <th>Low</th>\n",
              "      <th>Close</th>\n",
              "      <th>Adj Close</th>\n",
              "      <th>Volume</th>\n",
              "      <th>Weekday</th>\n",
              "    </tr>\n",
              "    <tr>\n",
              "      <th>Date</th>\n",
              "      <th></th>\n",
              "      <th></th>\n",
              "      <th></th>\n",
              "      <th></th>\n",
              "      <th></th>\n",
              "      <th></th>\n",
              "      <th></th>\n",
              "    </tr>\n",
              "  </thead>\n",
              "  <tbody>\n",
              "    <tr>\n",
              "      <th>2016-01-30</th>\n",
              "      <td>59.590000</td>\n",
              "      <td>59.590000</td>\n",
              "      <td>59.590000</td>\n",
              "      <td>59.590000</td>\n",
              "      <td>59.590000</td>\n",
              "      <td>0</td>\n",
              "      <td>6</td>\n",
              "    </tr>\n",
              "    <tr>\n",
              "      <th>2016-06-04</th>\n",
              "      <td>63.980000</td>\n",
              "      <td>63.980000</td>\n",
              "      <td>63.980000</td>\n",
              "      <td>63.980000</td>\n",
              "      <td>63.980000</td>\n",
              "      <td>0</td>\n",
              "      <td>6</td>\n",
              "    </tr>\n",
              "    <tr>\n",
              "      <th>2016-09-10</th>\n",
              "      <td>69.790001</td>\n",
              "      <td>69.790001</td>\n",
              "      <td>69.790001</td>\n",
              "      <td>69.790001</td>\n",
              "      <td>69.790001</td>\n",
              "      <td>0</td>\n",
              "      <td>6</td>\n",
              "    </tr>\n",
              "    <tr>\n",
              "      <th>2017-02-18</th>\n",
              "      <td>73.480003</td>\n",
              "      <td>73.480003</td>\n",
              "      <td>73.480003</td>\n",
              "      <td>73.480003</td>\n",
              "      <td>73.480003</td>\n",
              "      <td>0</td>\n",
              "      <td>6</td>\n",
              "    </tr>\n",
              "    <tr>\n",
              "      <th>2017-06-03</th>\n",
              "      <td>77.330002</td>\n",
              "      <td>77.330002</td>\n",
              "      <td>77.330002</td>\n",
              "      <td>77.330002</td>\n",
              "      <td>77.330002</td>\n",
              "      <td>0</td>\n",
              "      <td>6</td>\n",
              "    </tr>\n",
              "  </tbody>\n",
              "</table>\n",
              "</div>\n",
              "      <button class=\"colab-df-convert\" onclick=\"convertToInteractive('df-a524bd2f-121b-4b81-89c3-f3ee19b6fad4')\"\n",
              "              title=\"Convert this dataframe to an interactive table.\"\n",
              "              style=\"display:none;\">\n",
              "        \n",
              "  <svg xmlns=\"http://www.w3.org/2000/svg\" height=\"24px\"viewBox=\"0 0 24 24\"\n",
              "       width=\"24px\">\n",
              "    <path d=\"M0 0h24v24H0V0z\" fill=\"none\"/>\n",
              "    <path d=\"M18.56 5.44l.94 2.06.94-2.06 2.06-.94-2.06-.94-.94-2.06-.94 2.06-2.06.94zm-11 1L8.5 8.5l.94-2.06 2.06-.94-2.06-.94L8.5 2.5l-.94 2.06-2.06.94zm10 10l.94 2.06.94-2.06 2.06-.94-2.06-.94-.94-2.06-.94 2.06-2.06.94z\"/><path d=\"M17.41 7.96l-1.37-1.37c-.4-.4-.92-.59-1.43-.59-.52 0-1.04.2-1.43.59L10.3 9.45l-7.72 7.72c-.78.78-.78 2.05 0 2.83L4 21.41c.39.39.9.59 1.41.59.51 0 1.02-.2 1.41-.59l7.78-7.78 2.81-2.81c.8-.78.8-2.07 0-2.86zM5.41 20L4 18.59l7.72-7.72 1.47 1.35L5.41 20z\"/>\n",
              "  </svg>\n",
              "      </button>\n",
              "      \n",
              "  <style>\n",
              "    .colab-df-container {\n",
              "      display:flex;\n",
              "      flex-wrap:wrap;\n",
              "      gap: 12px;\n",
              "    }\n",
              "\n",
              "    .colab-df-convert {\n",
              "      background-color: #E8F0FE;\n",
              "      border: none;\n",
              "      border-radius: 50%;\n",
              "      cursor: pointer;\n",
              "      display: none;\n",
              "      fill: #1967D2;\n",
              "      height: 32px;\n",
              "      padding: 0 0 0 0;\n",
              "      width: 32px;\n",
              "    }\n",
              "\n",
              "    .colab-df-convert:hover {\n",
              "      background-color: #E2EBFA;\n",
              "      box-shadow: 0px 1px 2px rgba(60, 64, 67, 0.3), 0px 1px 3px 1px rgba(60, 64, 67, 0.15);\n",
              "      fill: #174EA6;\n",
              "    }\n",
              "\n",
              "    [theme=dark] .colab-df-convert {\n",
              "      background-color: #3B4455;\n",
              "      fill: #D2E3FC;\n",
              "    }\n",
              "\n",
              "    [theme=dark] .colab-df-convert:hover {\n",
              "      background-color: #434B5C;\n",
              "      box-shadow: 0px 1px 3px 1px rgba(0, 0, 0, 0.15);\n",
              "      filter: drop-shadow(0px 1px 2px rgba(0, 0, 0, 0.3));\n",
              "      fill: #FFFFFF;\n",
              "    }\n",
              "  </style>\n",
              "\n",
              "      <script>\n",
              "        const buttonEl =\n",
              "          document.querySelector('#df-a524bd2f-121b-4b81-89c3-f3ee19b6fad4 button.colab-df-convert');\n",
              "        buttonEl.style.display =\n",
              "          google.colab.kernel.accessAllowed ? 'block' : 'none';\n",
              "\n",
              "        async function convertToInteractive(key) {\n",
              "          const element = document.querySelector('#df-a524bd2f-121b-4b81-89c3-f3ee19b6fad4');\n",
              "          const dataTable =\n",
              "            await google.colab.kernel.invokeFunction('convertToInteractive',\n",
              "                                                     [key], {});\n",
              "          if (!dataTable) return;\n",
              "\n",
              "          const docLinkHtml = 'Like what you see? Visit the ' +\n",
              "            '<a target=\"_blank\" href=https://colab.research.google.com/notebooks/data_table.ipynb>data table notebook</a>'\n",
              "            + ' to learn more about interactive tables.';\n",
              "          element.innerHTML = '';\n",
              "          dataTable['output_type'] = 'display_data';\n",
              "          await google.colab.output.renderOutput(dataTable, element);\n",
              "          const docLink = document.createElement('div');\n",
              "          docLink.innerHTML = docLinkHtml;\n",
              "          element.appendChild(docLink);\n",
              "        }\n",
              "      </script>\n",
              "    </div>\n",
              "  </div>\n",
              "  "
            ],
            "text/plain": [
              "                 Open       High        Low  ...  Adj Close  Volume  Weekday\n",
              "Date                                         ...                            \n",
              "2016-01-30  59.590000  59.590000  59.590000  ...  59.590000       0        6\n",
              "2016-06-04  63.980000  63.980000  63.980000  ...  63.980000       0        6\n",
              "2016-09-10  69.790001  69.790001  69.790001  ...  69.790001       0        6\n",
              "2017-02-18  73.480003  73.480003  73.480003  ...  73.480003       0        6\n",
              "2017-06-03  77.330002  77.330002  77.330002  ...  77.330002       0        6\n",
              "\n",
              "[5 rows x 7 columns]"
            ]
          },
          "metadata": {},
          "execution_count": 5
        }
      ]
    },
    {
      "cell_type": "markdown",
      "source": [
        "## 定義投資物件"
      ],
      "metadata": {
        "id": "BQ51ICupnbwB"
      }
    },
    {
      "cell_type": "code",
      "source": [
        "class Investment():\n",
        "  def __init__(self, weekday:int, payment:int, start_date, quote):\n",
        "    self.weekday: int = weekday\n",
        "    self.payment = payment\n",
        "    self.start_date = datetime.strptime(start_date, '%Y-%m-%d')\n",
        "    self.quote = quote\n",
        "\n",
        "    self.data = tt50.loc[(tt50['Weekday'] == self.weekday) & (tt50.index >= self.start_date)]\n",
        "    self.data['Payment'] = self.payment\n",
        "    self.data['Purchased units'] = np.floor_divide(self.data['Payment'], self.data[quote]).astype('int64')\n",
        "    self.data['Cost'] = round(self.data[quote] * self.data['Purchased units']).astype('int64')\n",
        "    self.data['Commissions'] = round(self.data['Cost'] * 0.001425).astype('int64')\n",
        "    self.data['Total Cost'] = self.data['Cost'] + self.data['Commissions']\n",
        "\n",
        "    self.total_payments = len(self.data)\n",
        "    self.total_cost = self.data['Total Cost'].sum()\n",
        "    self.fv = round(self.data['Purchased units'].sum() * tt50_price)\n",
        "    self.sellcommission = round(self.fv * 0.001425)\n",
        "    self.stt = int(self.fv * 0.003)\n",
        "    self.net_fv = self.fv - self.sellcommission - self.stt\n",
        "    self.total_return = self.net_fv / self.total_cost - 1"
      ],
      "metadata": {
        "id": "3uVKivup9BdQ"
      },
      "execution_count": null,
      "outputs": []
    },
    {
      "cell_type": "markdown",
      "source": [
        "---\n",
        "\n",
        "## 設定定期定額條件"
      ],
      "metadata": {
        "id": "26cEFRtMe9qQ"
      }
    },
    {
      "cell_type": "code",
      "source": [
        "# 每次申購金額\n",
        "p = 1000\n",
        "\n",
        "# 自何時開始\n",
        "s_date = '2021-12-01'\n",
        "\n",
        "# 按開盤價(Open)、最高價(High)、最低價(Low)、收盤價(Close)計算\n",
        "q = 'Close'"
      ],
      "metadata": {
        "id": "nYghgMbFfAxf"
      },
      "execution_count": null,
      "outputs": []
    },
    {
      "cell_type": "code",
      "source": [
        "mon = Investment(weekday = 1, payment = p, start_date = s_date, quote = q)\n",
        "tue = Investment(weekday = 2, payment = p, start_date = s_date, quote = q)\n",
        "wed = Investment(weekday = 3, payment = p, start_date = s_date, quote = q)\n",
        "thu = Investment(weekday = 4, payment = p, start_date = s_date, quote = q)\n",
        "fri = Investment(weekday = 5, payment = p, start_date = s_date, quote = q)"
      ],
      "metadata": {
        "id": "6PhN9mn6GbKL"
      },
      "execution_count": null,
      "outputs": []
    },
    {
      "cell_type": "code",
      "source": [
        "summary = {}\n",
        "days = [mon, tue, wed, thu, fri]\n",
        "\n",
        "for i in days:\n",
        "  summary[i.weekday] = [\n",
        "              i.total_payments,\n",
        "              i.total_cost,\n",
        "              i.net_fv,\n",
        "              i.total_return\n",
        "              ]\n",
        "summary = pd.DataFrame.from_dict(summary, orient='index', \n",
        "                  columns = ['付款次數', '成本', '現值', '報酬率'])\n",
        "\n",
        "max_r = summary['報酬率'].max()\n",
        "avg_r = summary['報酬率'].mean()\n",
        "max_r_day = wd_convert[summary.loc[summary['報酬率'] == max_r].index.tolist()[0]]\n",
        "max_r_alpha = (max_r - avg_r) / avg_r\n",
        "print(f\"自{s_date}起固定在{max_r_day}申購0050，至今擁有最高之報酬率{max_r:.2%}，高於平均達{max_r_alpha:.2%}。\")\n",
        "min_r = summary['報酬率'].min()\n",
        "min_r_day = wd_convert[summary.loc[summary['報酬率'] == min_r].index.tolist()[0]]\n",
        "min_r_alpha = (min_r - avg_r) / avg_r\n",
        "print(f\"自{s_date}起固定在{min_r_day}申購0050，至今擁有最低之報酬率{min_r:.2%}，低於平均達{min_r_alpha:.2%}。\")\n",
        "\n",
        "max_fv = summary['現值'].max()\n",
        "max_fv_day = wd_convert[summary.loc[summary['現值'] == max_fv].index.tolist()[0]]\n",
        "print(f\"自{s_date}起固定在{max_fv_day}申購0050，至今擁有最高之現值{max_fv:,}元。\")\n",
        "min_fv = summary['現值'].min()\n",
        "min_fv_day = wd_convert[summary.loc[summary['現值'] == min_fv].index.tolist()[0]]\n",
        "print(f\"自{s_date}起固定在{min_fv_day}申購0050，至今擁有最低之現值{min_fv:,}元。\")\n",
        "max_cost = summary['成本'].max()\n",
        "max_cost_day = wd_convert[summary.loc[summary['成本'] == max_cost].index.tolist()[0]]\n",
        "min_cost = summary['成本'].min()\n",
        "min_cost_day = wd_convert[summary.loc[summary['成本'] == min_cost].index.tolist()[0]]\n",
        "print(f\"自{s_date}起固定在{max_cost_day}申購0050，至今投入最多之成本{max_cost:,}元。\")\n",
        "print(f\"自{s_date}起固定在{min_cost_day}申購0050，至今投入最少之成本{min_cost:,}元。\")"
      ],
      "metadata": {
        "colab": {
          "base_uri": "https://localhost:8080/"
        },
        "id": "2BKmZL6Sms9w",
        "outputId": "a468259e-7496-4f62-81f8-015954d61e37"
      },
      "execution_count": null,
      "outputs": [
        {
          "output_type": "stream",
          "name": "stdout",
          "text": [
            "自2021-12-01起固定在星期一申購0050，至今擁有最高之報酬率4.27%，高於平均達12.11%。\n",
            "自2021-12-01起固定在星期四申購0050，至今擁有最低之報酬率3.53%，低於平均達-7.19%。\n",
            "自2021-12-01起固定在星期三申購0050，至今擁有最高之現值6,884元。\n",
            "自2021-12-01起固定在星期一申購0050，至今擁有最低之現值5,837元。\n",
            "自2021-12-01起固定在星期四申購0050，至今投入最多之成本6,649元。\n",
            "自2021-12-01起固定在星期一申購0050，至今投入最少之成本5,598元。\n"
          ]
        }
      ]
    },
    {
      "cell_type": "code",
      "source": [
        "summary"
      ],
      "metadata": {
        "colab": {
          "base_uri": "https://localhost:8080/",
          "height": 206
        },
        "id": "Z9uQzetJTKBc",
        "outputId": "451d97bd-16f1-473d-a33f-7966194c1aa8"
      },
      "execution_count": null,
      "outputs": [
        {
          "output_type": "execute_result",
          "data": {
            "text/html": [
              "\n",
              "  <div id=\"df-dabd90e0-331f-480d-8830-fbadf2c8c4d5\">\n",
              "    <div class=\"colab-df-container\">\n",
              "      <div>\n",
              "<style scoped>\n",
              "    .dataframe tbody tr th:only-of-type {\n",
              "        vertical-align: middle;\n",
              "    }\n",
              "\n",
              "    .dataframe tbody tr th {\n",
              "        vertical-align: top;\n",
              "    }\n",
              "\n",
              "    .dataframe thead th {\n",
              "        text-align: right;\n",
              "    }\n",
              "</style>\n",
              "<table border=\"1\" class=\"dataframe\">\n",
              "  <thead>\n",
              "    <tr style=\"text-align: right;\">\n",
              "      <th></th>\n",
              "      <th>付款次數</th>\n",
              "      <th>成本</th>\n",
              "      <th>現值</th>\n",
              "      <th>報酬率</th>\n",
              "    </tr>\n",
              "  </thead>\n",
              "  <tbody>\n",
              "    <tr>\n",
              "      <th>1</th>\n",
              "      <td>6</td>\n",
              "      <td>5598</td>\n",
              "      <td>5837</td>\n",
              "      <td>0.042694</td>\n",
              "    </tr>\n",
              "    <tr>\n",
              "      <th>2</th>\n",
              "      <td>6</td>\n",
              "      <td>5633</td>\n",
              "      <td>5837</td>\n",
              "      <td>0.036215</td>\n",
              "    </tr>\n",
              "    <tr>\n",
              "      <th>3</th>\n",
              "      <td>7</td>\n",
              "      <td>6629</td>\n",
              "      <td>6884</td>\n",
              "      <td>0.038467</td>\n",
              "    </tr>\n",
              "    <tr>\n",
              "      <th>4</th>\n",
              "      <td>7</td>\n",
              "      <td>6649</td>\n",
              "      <td>6884</td>\n",
              "      <td>0.035344</td>\n",
              "    </tr>\n",
              "    <tr>\n",
              "      <th>5</th>\n",
              "      <td>6</td>\n",
              "      <td>5625</td>\n",
              "      <td>5837</td>\n",
              "      <td>0.037689</td>\n",
              "    </tr>\n",
              "  </tbody>\n",
              "</table>\n",
              "</div>\n",
              "      <button class=\"colab-df-convert\" onclick=\"convertToInteractive('df-dabd90e0-331f-480d-8830-fbadf2c8c4d5')\"\n",
              "              title=\"Convert this dataframe to an interactive table.\"\n",
              "              style=\"display:none;\">\n",
              "        \n",
              "  <svg xmlns=\"http://www.w3.org/2000/svg\" height=\"24px\"viewBox=\"0 0 24 24\"\n",
              "       width=\"24px\">\n",
              "    <path d=\"M0 0h24v24H0V0z\" fill=\"none\"/>\n",
              "    <path d=\"M18.56 5.44l.94 2.06.94-2.06 2.06-.94-2.06-.94-.94-2.06-.94 2.06-2.06.94zm-11 1L8.5 8.5l.94-2.06 2.06-.94-2.06-.94L8.5 2.5l-.94 2.06-2.06.94zm10 10l.94 2.06.94-2.06 2.06-.94-2.06-.94-.94-2.06-.94 2.06-2.06.94z\"/><path d=\"M17.41 7.96l-1.37-1.37c-.4-.4-.92-.59-1.43-.59-.52 0-1.04.2-1.43.59L10.3 9.45l-7.72 7.72c-.78.78-.78 2.05 0 2.83L4 21.41c.39.39.9.59 1.41.59.51 0 1.02-.2 1.41-.59l7.78-7.78 2.81-2.81c.8-.78.8-2.07 0-2.86zM5.41 20L4 18.59l7.72-7.72 1.47 1.35L5.41 20z\"/>\n",
              "  </svg>\n",
              "      </button>\n",
              "      \n",
              "  <style>\n",
              "    .colab-df-container {\n",
              "      display:flex;\n",
              "      flex-wrap:wrap;\n",
              "      gap: 12px;\n",
              "    }\n",
              "\n",
              "    .colab-df-convert {\n",
              "      background-color: #E8F0FE;\n",
              "      border: none;\n",
              "      border-radius: 50%;\n",
              "      cursor: pointer;\n",
              "      display: none;\n",
              "      fill: #1967D2;\n",
              "      height: 32px;\n",
              "      padding: 0 0 0 0;\n",
              "      width: 32px;\n",
              "    }\n",
              "\n",
              "    .colab-df-convert:hover {\n",
              "      background-color: #E2EBFA;\n",
              "      box-shadow: 0px 1px 2px rgba(60, 64, 67, 0.3), 0px 1px 3px 1px rgba(60, 64, 67, 0.15);\n",
              "      fill: #174EA6;\n",
              "    }\n",
              "\n",
              "    [theme=dark] .colab-df-convert {\n",
              "      background-color: #3B4455;\n",
              "      fill: #D2E3FC;\n",
              "    }\n",
              "\n",
              "    [theme=dark] .colab-df-convert:hover {\n",
              "      background-color: #434B5C;\n",
              "      box-shadow: 0px 1px 3px 1px rgba(0, 0, 0, 0.15);\n",
              "      filter: drop-shadow(0px 1px 2px rgba(0, 0, 0, 0.3));\n",
              "      fill: #FFFFFF;\n",
              "    }\n",
              "  </style>\n",
              "\n",
              "      <script>\n",
              "        const buttonEl =\n",
              "          document.querySelector('#df-dabd90e0-331f-480d-8830-fbadf2c8c4d5 button.colab-df-convert');\n",
              "        buttonEl.style.display =\n",
              "          google.colab.kernel.accessAllowed ? 'block' : 'none';\n",
              "\n",
              "        async function convertToInteractive(key) {\n",
              "          const element = document.querySelector('#df-dabd90e0-331f-480d-8830-fbadf2c8c4d5');\n",
              "          const dataTable =\n",
              "            await google.colab.kernel.invokeFunction('convertToInteractive',\n",
              "                                                     [key], {});\n",
              "          if (!dataTable) return;\n",
              "\n",
              "          const docLinkHtml = 'Like what you see? Visit the ' +\n",
              "            '<a target=\"_blank\" href=https://colab.research.google.com/notebooks/data_table.ipynb>data table notebook</a>'\n",
              "            + ' to learn more about interactive tables.';\n",
              "          element.innerHTML = '';\n",
              "          dataTable['output_type'] = 'display_data';\n",
              "          await google.colab.output.renderOutput(dataTable, element);\n",
              "          const docLink = document.createElement('div');\n",
              "          docLink.innerHTML = docLinkHtml;\n",
              "          element.appendChild(docLink);\n",
              "        }\n",
              "      </script>\n",
              "    </div>\n",
              "  </div>\n",
              "  "
            ],
            "text/plain": [
              "   付款次數    成本    現值       報酬率\n",
              "1     6  5598  5837  0.042694\n",
              "2     6  5633  5837  0.036215\n",
              "3     7  6629  6884  0.038467\n",
              "4     7  6649  6884  0.035344\n",
              "5     6  5625  5837  0.037689"
            ]
          },
          "metadata": {},
          "execution_count": 71
        }
      ]
    }
  ]
}